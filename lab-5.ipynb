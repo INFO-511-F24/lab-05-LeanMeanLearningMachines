{
 "cells": [
  {
   "cell_type": "markdown",
   "metadata": {},
   "source": [
    "# Lab 5 - Probability and Simpson’s Paradox\n",
    "### Lean Mean Learning Machines\n",
    "### Authors: \n",
    "  - \"Michelle Le\"\n",
    "  - \"Weiliang Deng\"\n",
    "  - \"Vidhyananth Sivashanmugan\"\n",
    "  - \"Tejas Bhawari\"\n",
    "### Date: 11/26/2024"
   ]
  },
  {
   "cell_type": "markdown",
   "metadata": {},
   "source": [
    "::: callout-important\n",
    "This is a *Team* Lab, meaning you can and should work with your project team on it.\n",
    ":::"
   ]
  },
  {
   "cell_type": "markdown",
   "metadata": {},
   "source": [
    "## Packages"
   ]
  },
  {
   "cell_type": "code",
   "execution_count": 14,
   "metadata": {},
   "outputs": [],
   "source": [
    "import pandas as pd\n",
    "import seaborn as sns\n",
    "import matplotlib.pyplot as plt"
   ]
  },
  {
   "cell_type": "markdown",
   "metadata": {},
   "source": [
    "# Introduction\n",
    "\n",
    "In this lab you'll review and get practice with a variety of concepts, methods, and tools you've encountered thus far, with a focus on misrepresentation and ethics.\n",
    "\n",
    "## Learning objectives\n",
    "\n",
    "By the end of the lab, you will...\n",
    "\n",
    "-   Calculate single event, conditional, and \"and\" probabilities.\n",
    "-   Interpret probabilities in the context of the problem.\n",
    "-   Display a fundamental understanding of Simpson's Paradox.\n",
    "-   Practice teamwork and collaboration on GitHub.\n",
    "\n",
    "## Guidelines\n",
    "\n",
    "As we've discussed in lecture, your plots should include an informative title, axes should be labeled, and careful consideration should be given to aesthetic choices.\n",
    "\n",
    "::: callout-note\n",
    "Remember that continuing to develop a sound workflow for reproducible data analysis is important as you complete the lab and other assignments in this course.\n",
    "There will be periodic reminders in this assignment to remind you to **Run all, commit, and sync** your changes to GitHub.\n",
    "You should have at least 3 commits with meaningful commit messages by the end of the assignment.\n",
    ":::\n",
    "\n",
    "# Getting started\n",
    "\n",
    "All team members should clone the team GitHub repository for the lab.\n",
    "Then, one team member should edit the document Markdown cell by adding the team name to the `Team name` field and adding the names of the team members contributing to lab to the `Authors` field.\n",
    "Hopefully that's everyone, but if someone doesn't contribute during the lab session or throughout the week before the deadline, their name should not be added.\n",
    "If you have 4 members in your team, you can delete the line for the 5th team member.\n",
    "Then, this team member should render the document and commit and push the changes.\n",
    "All others should **not** touch the document at this stage.\n",
    "\n",
    "\n",
    "# Lab 5 - Probability and Simpson’s Paradox\n",
    "### Lean Mean Learning Machines\n",
    "### Authors: \n",
    "  - \"Michelle Le\"\n",
    "  - \"Weiliang Deng\"\n",
    "  - \"Vidhyananth Sivashanmugan\"\n",
    "  - \"Tejas Bhawari\"\n",
    "### Date: 11/26/2024\n",
    "\n"
   ]
  },
  {
   "cell_type": "markdown",
   "metadata": {},
   "source": [
    "# Questions\n",
    "\n",
    "::: callout-important\n",
    "Pick another member of the team write the answer to Part 1.\n",
    "All others should contribute to the discussion but only one person should type up the answer, render the document, commit, and push to GitHub.\n",
    "All others should **not** touch the document.\n",
    ":::\n"
   ]
  },
  {
   "cell_type": "markdown",
   "metadata": {},
   "source": [
    "## Part 1 - Probability and you\n",
    "\n",
    "### Question 1\n",
    "\n",
    "We use probabilities all the time when making decisions.\n",
    "*As a group*, provide *two* real world examples of when you've used probability to make decisions in your every day life.\n",
    "Think critically.\n",
    "Be creative."
   ]
  },
  {
   "cell_type": "markdown",
   "metadata": {},
   "source": [
    "**Example 1** - Weather\n",
    "\n",
    "We often make predictions on the probability of what the weather would be like for the upcoming day or week. Even if we end up relying on the weather channel to verify our predictions, it doesn't stop us from using informal probability calculations to predict the weather - especially since many weather predictions do not go further than a month into the future. Will it still be over 100 degrees in Phoenix for the next 3 months? Would we still be living in Phoenix in the next 5 years? Will we move before our neighbors move? These are some of the questions we face as residents in Phoenix. We can use variables such as how many days has it already been, how many days of summer are there left, some combination of what we've heard experts say, and what the previous summers were like. We can even look at weather in neighboring cities and states with hope that we would get to see some of the monsoon clouds coming up from Mexico. As the days get hotter and longer without any hope of monsoon season appearing, we then start thinking about the probabilities of us living in Arizona in the next 5 years. \n",
    "\n",
    "**Example 2** - What is the best time to travel?\n",
    "\n",
    "The best traveling plans are made when we start with a place that we've been dreaming to go to, what we want to do, and who do we want to go with. Maybe you've been wanting to take the family to Disneyworld, spend a weekend in a cabin with friends, go on a romantic honeymoon in the Bahamas, or take a solo trip to Japan. Dreaming of this part is easy. Now the real question is when is the best time to go? Here, we would have to rely on probabilities to help us come up with the best dates to go on that dream vacation. We would have to consider factors that can help increase the likelihood that we would enjoy our trip the way we want to. Factors such as: What are the busiest travel dates for that location? What activities are happening and which ones are we interested in? What days can our friends and family simultaneously request PTO for? What is our budget? When are the kids go on summer break? What would the weather be like in that location? If you want to take the kids to Disneyworld in Florida, maybe you should avoid dates that fall within hurricane season. If you want that quiet romantic honeymoon, maybe it would be best to avoid busy travel dates. These variable are all used to help us determine the best and most efficient dates for us to choose when planning that dream vacation. "
   ]
  },
  {
   "cell_type": "markdown",
   "metadata": {},
   "source": [
    "::: callout-important\n",
    "After the team member working on Part 1 renders, commits, and pushes, another team member should pull their changes and render the document.\n",
    "Then, they should write the answer to Part 2.\n",
    "All others should contribute to the discussion but only one person should type up the answer, render the document, commit, and push to GitHub.\n",
    "All others should **not** touch the document.\n",
    ":::"
   ]
  },
  {
   "cell_type": "markdown",
   "metadata": {},
   "source": [
    "## Part 2 - Risk of coronary heart disease\n",
    "\n",
    "This data set is from an ongoing cardiovascular study on residents of the town of Framingham, Massachusetts.\n",
    "We want to examine the relationship between various health characteristics and the risk of having heart disease.\n",
    "\n",
    "### Question 2\n",
    "\n",
    "Load in the data set called `education-disease` and answer the following questions below."
   ]
  },
  {
   "cell_type": "code",
   "execution_count": 15,
   "metadata": {},
   "outputs": [
    {
     "data": {
      "text/html": [
       "<div>\n",
       "<style scoped>\n",
       "    .dataframe tbody tr th:only-of-type {\n",
       "        vertical-align: middle;\n",
       "    }\n",
       "\n",
       "    .dataframe tbody tr th {\n",
       "        vertical-align: top;\n",
       "    }\n",
       "\n",
       "    .dataframe thead th {\n",
       "        text-align: right;\n",
       "    }\n",
       "</style>\n",
       "<table border=\"1\" class=\"dataframe\">\n",
       "  <thead>\n",
       "    <tr style=\"text-align: right;\">\n",
       "      <th></th>\n",
       "      <th>male</th>\n",
       "      <th>age</th>\n",
       "      <th>education</th>\n",
       "      <th>currentSmoker</th>\n",
       "      <th>cigsPerDay</th>\n",
       "      <th>BPMeds</th>\n",
       "      <th>prevalentStroke</th>\n",
       "      <th>prevalentHyp</th>\n",
       "      <th>diabetes</th>\n",
       "      <th>totChol</th>\n",
       "      <th>sysBP</th>\n",
       "      <th>diaBP</th>\n",
       "      <th>BMI</th>\n",
       "      <th>heartRate</th>\n",
       "      <th>glucose</th>\n",
       "      <th>TenYearCHD</th>\n",
       "    </tr>\n",
       "  </thead>\n",
       "  <tbody>\n",
       "    <tr>\n",
       "      <th>0</th>\n",
       "      <td>1</td>\n",
       "      <td>39</td>\n",
       "      <td>4.0</td>\n",
       "      <td>0</td>\n",
       "      <td>0.0</td>\n",
       "      <td>0.0</td>\n",
       "      <td>0</td>\n",
       "      <td>0</td>\n",
       "      <td>0</td>\n",
       "      <td>195.0</td>\n",
       "      <td>106.0</td>\n",
       "      <td>70.0</td>\n",
       "      <td>26.97</td>\n",
       "      <td>80.0</td>\n",
       "      <td>77.0</td>\n",
       "      <td>0</td>\n",
       "    </tr>\n",
       "    <tr>\n",
       "      <th>1</th>\n",
       "      <td>0</td>\n",
       "      <td>46</td>\n",
       "      <td>2.0</td>\n",
       "      <td>0</td>\n",
       "      <td>0.0</td>\n",
       "      <td>0.0</td>\n",
       "      <td>0</td>\n",
       "      <td>0</td>\n",
       "      <td>0</td>\n",
       "      <td>250.0</td>\n",
       "      <td>121.0</td>\n",
       "      <td>81.0</td>\n",
       "      <td>28.73</td>\n",
       "      <td>95.0</td>\n",
       "      <td>76.0</td>\n",
       "      <td>0</td>\n",
       "    </tr>\n",
       "    <tr>\n",
       "      <th>2</th>\n",
       "      <td>1</td>\n",
       "      <td>48</td>\n",
       "      <td>1.0</td>\n",
       "      <td>1</td>\n",
       "      <td>20.0</td>\n",
       "      <td>0.0</td>\n",
       "      <td>0</td>\n",
       "      <td>0</td>\n",
       "      <td>0</td>\n",
       "      <td>245.0</td>\n",
       "      <td>127.5</td>\n",
       "      <td>80.0</td>\n",
       "      <td>25.34</td>\n",
       "      <td>75.0</td>\n",
       "      <td>70.0</td>\n",
       "      <td>0</td>\n",
       "    </tr>\n",
       "    <tr>\n",
       "      <th>3</th>\n",
       "      <td>0</td>\n",
       "      <td>61</td>\n",
       "      <td>3.0</td>\n",
       "      <td>1</td>\n",
       "      <td>30.0</td>\n",
       "      <td>0.0</td>\n",
       "      <td>0</td>\n",
       "      <td>1</td>\n",
       "      <td>0</td>\n",
       "      <td>225.0</td>\n",
       "      <td>150.0</td>\n",
       "      <td>95.0</td>\n",
       "      <td>28.58</td>\n",
       "      <td>65.0</td>\n",
       "      <td>103.0</td>\n",
       "      <td>1</td>\n",
       "    </tr>\n",
       "    <tr>\n",
       "      <th>4</th>\n",
       "      <td>0</td>\n",
       "      <td>46</td>\n",
       "      <td>3.0</td>\n",
       "      <td>1</td>\n",
       "      <td>23.0</td>\n",
       "      <td>0.0</td>\n",
       "      <td>0</td>\n",
       "      <td>0</td>\n",
       "      <td>0</td>\n",
       "      <td>285.0</td>\n",
       "      <td>130.0</td>\n",
       "      <td>84.0</td>\n",
       "      <td>23.10</td>\n",
       "      <td>85.0</td>\n",
       "      <td>85.0</td>\n",
       "      <td>0</td>\n",
       "    </tr>\n",
       "  </tbody>\n",
       "</table>\n",
       "</div>"
      ],
      "text/plain": [
       "   male  age  education  currentSmoker  cigsPerDay  BPMeds  prevalentStroke  \\\n",
       "0     1   39        4.0              0         0.0     0.0                0   \n",
       "1     0   46        2.0              0         0.0     0.0                0   \n",
       "2     1   48        1.0              1        20.0     0.0                0   \n",
       "3     0   61        3.0              1        30.0     0.0                0   \n",
       "4     0   46        3.0              1        23.0     0.0                0   \n",
       "\n",
       "   prevalentHyp  diabetes  totChol  sysBP  diaBP    BMI  heartRate  glucose  \\\n",
       "0             0         0    195.0  106.0   70.0  26.97       80.0     77.0   \n",
       "1             0         0    250.0  121.0   81.0  28.73       95.0     76.0   \n",
       "2             0         0    245.0  127.5   80.0  25.34       75.0     70.0   \n",
       "3             1         0    225.0  150.0   95.0  28.58       65.0    103.0   \n",
       "4             0         0    285.0  130.0   84.0  23.10       85.0     85.0   \n",
       "\n",
       "   TenYearCHD  \n",
       "0           0  \n",
       "1           0  \n",
       "2           0  \n",
       "3           1  \n",
       "4           0  "
      ]
     },
     "execution_count": 15,
     "metadata": {},
     "output_type": "execute_result"
    }
   ],
   "source": [
    "Education_dt = pd.read_csv('data/education-disease.csv')\n",
    "\n",
    "Education_dt.head() "
   ]
  },
  {
   "cell_type": "markdown",
   "metadata": {},
   "source": [
    "### Question 3\n",
    "\n",
    "How many levels of education are there in these data?\n",
    "How many levels of disease are there?\n",
    "**Hint:** The `unique()` function might be helpful.\n"
   ]
  },
  {
   "cell_type": "code",
   "execution_count": 16,
   "metadata": {},
   "outputs": [
    {
     "name": "stdout",
     "output_type": "stream",
     "text": [
      "unique number of education levels: [ 4.  2.  1.  3. nan] \n",
      "count of education level: 5\n",
      "unique number of disease levels: [0 1] \n",
      "count of disease level: 2\n"
     ]
    }
   ],
   "source": [
    "education_levels = Education_dt['education'].unique() if 'education' in Education_dt.columns else None\n",
    "disease_levels = Education_dt['TenYearCHD'].unique() if 'TenYearCHD' in Education_dt.columns else None\n",
    "\n",
    "education_count = len(education_levels) if education_levels is not None else \"Column 'education' not found.\"\n",
    "disease_count = len(disease_levels) if disease_levels is not None else \"Column 'disease' not found.\"\n",
    "\n",
    "print(\"unique number of education levels:\",education_levels,\"\\ncount of education level:\", education_count)\n",
    "\n",
    "print(\"unique number of disease levels:\",disease_levels,\"\\ncount of disease level:\", disease_count)"
   ]
  },
  {
   "cell_type": "markdown",
   "metadata": {},
   "source": [
    "### Question 4\n",
    "\n",
    "Convert the data to a two-way table where each cell is the number of people falling into each combination of Disease and Education.\n",
    "**Hint:** Use `groupby` and `pivot_table`.\n",
    "Your answer should be a 4x3 data frame with counts in each cell.\n"
   ]
  },
  {
   "cell_type": "code",
   "execution_count": 17,
   "metadata": {},
   "outputs": [
    {
     "name": "stdout",
     "output_type": "stream",
     "text": [
      "education      1.0     2.0    3.0    4.0\n",
      "TenYearCHD                              \n",
      "0           1397.0  1106.0  601.0  403.0\n",
      "1            323.0   147.0   88.0   70.0\n"
     ]
    }
   ],
   "source": [
    "two_way_table = (\n",
    "        Education_dt\n",
    "        .groupby(['TenYearCHD', 'education'])\n",
    "        .size()\n",
    "        .reset_index(name='count')\n",
    "        .pivot_table(index='TenYearCHD', columns='education', values='count', fill_value=0)\n",
    "    )\n",
    "print(two_way_table)"
   ]
  },
  {
   "cell_type": "markdown",
   "metadata": {},
   "source": [
    "Using the summary table you created above, answer the remaining questions.\n",
    "You do not have to use Python functions for your calculations, you can use Python as a calculator using the values from the summary table.\n",
    "Make sure to show your work, i.e., instead of reporting just the final answer, use Python to calculate that in a way we can see the counts you've used along the way.\n"
   ]
  },
  {
   "cell_type": "markdown",
   "metadata": {},
   "source": [
    "### Question 5\n",
    "\n",
    "What is the probability of a random individual having high school or GED education and not being high risk for cardiovascular disease?"
   ]
  },
  {
   "cell_type": "code",
   "execution_count": 18,
   "metadata": {},
   "outputs": [
    {
     "name": "stdout",
     "output_type": "stream",
     "text": [
      "26.75 %\n"
     ]
    }
   ],
   "source": [
    "# Considering 2.0 as the highschool level\n",
    "count_high_school = 1106\n",
    "total_count = 1397 + 1106 + 601 + 403 + 323 + 147 + 88 + 70\n",
    "\n",
    "# Calculating the probability\n",
    "probability = (count_high_school / total_count)*100\n",
    "print(round(probability,2),\"%\")"
   ]
  },
  {
   "cell_type": "markdown",
   "metadata": {},
   "source": [
    "### Question 6\n",
    "\n",
    "What is the probability that a random individual who is already high risk for cardiovascular disease has a college education?"
   ]
  },
  {
   "cell_type": "code",
   "execution_count": 19,
   "metadata": {},
   "outputs": [
    {
     "name": "stdout",
     "output_type": "stream",
     "text": [
      "11.15 %\n"
     ]
    }
   ],
   "source": [
    "# Selecting a random individual\n",
    "count_college_high = 70\n",
    "total_high_risk = 323 + 147 + 88 + 70\n",
    "\n",
    "# Calculating the probability\n",
    "probability_college_high = (count_college_high / total_high_risk)*100\n",
    "print(round(probability_college_high,2),\"%\")"
   ]
  },
  {
   "cell_type": "markdown",
   "metadata": {},
   "source": [
    "::: callout-important\n",
    "After the team member working on Part 2 renders, commits, and pushes, another team member should pull their changes and render the document.\n",
    "Then, they should write the answer to Part 3.\n",
    "All others should contribute to the discussion but only one person should type up the answer, render the document, commit, and push to GitHub.\n",
    "All others should **not** touch the document.\n",
    ":::"
   ]
  },
  {
   "cell_type": "markdown",
   "metadata": {},
   "source": [
    "## Part 3 - Bike rentals\n",
    "\n",
    "Bike sharing systems are new generation of traditional bike rentals where whole process from membership, rental and return back has become automatic.\n",
    "You are tasked to investigate the relationship between the temperature outside and the number of bikes rented in the Washington DC area between the years 2011 and 2022.\n",
    "You will be investigating data for the months June, July, September, and November.\n",
    "\n",
    "Below is a list of variables and their definitions:\n",
    "\n",
    "| Variable  | Definition                                                                     |\n",
    "|------------------|------------------------------------------------------|\n",
    "| `season`  | Numerical representation of Spring (2), Summer (3), and Fall (4)               |\n",
    "| `year`    | Numerical representation of 2011 (0) or 2012 (1)                               |\n",
    "| `month`   | Month in which data were collected                                             |\n",
    "| `holiday` | Indicator variable for whether data were collected on a holiday (1) or not (0) |\n",
    "| `weekday` | Numerical representation of day of week                                        |\n",
    "| `temp`    | Temperature in Celsius                                                         |\n",
    "| `count`   | Number of bike rentals for that day                                            |"
   ]
  },
  {
   "cell_type": "markdown",
   "metadata": {},
   "source": [
    "### Question 7\n",
    "\n",
    "(a) Read in the `bike` data.\n",
    "    Then, create a scatter plot that investigates the relationship between the number of bikes rented and the temperature outside.\n",
    "    Include a straight line of best fit to help discuss the discovered relationship.\n",
    "    Summarize your findings in 2-3 sentences.\n",
    "\n",
    "(b) Another researcher suggests to look at the relationship between bikes rented and temperature by each of the four months of interest.\n",
    "    Recreate your plot in part a, and color the points by month.\n",
    "    Include a straight line for each of the four months to help discuss each month's relationship between bikes rented and temperature.\n",
    "    In 3-4 sentences, summarize your findings."
   ]
  },
  {
   "cell_type": "markdown",
   "metadata": {},
   "source": [
    "Please watch the following video on Simpson's Paradox [here](https://www.youtube.com/watch?v=ebEkn-BiW5k).\n",
    "After you do, please answer the following questions.\n",
    "\n",
    "### Question 8\n",
    "\n",
    "In your own words, summarize Simpson's Paradox in 2-3 sentences."
   ]
  },
  {
   "cell_type": "markdown",
   "metadata": {},
   "source": [
    "### Question 9\n",
    "\n",
    "Compare and contrast your findings from part (a) and part (b).\n",
    "What's different?"
   ]
  },
  {
   "cell_type": "markdown",
   "metadata": {},
   "source": [
    "### Question 10\n",
    "\n",
    "Think critically about your answer to part d.\n",
    "What other context from this study could be creating this paradox?\n",
    "That is, identify a potential confounding"
   ]
  },
  {
   "cell_type": "markdown",
   "metadata": {},
   "source": [
    "# Closing an issue with a commit\n",
    "\n",
    "Go to your GitHub repository, you will see an issue with the title \"Learn to close an issue with a commit\".\n",
    "\n",
    "Your goal is to close this issue with a commit to practice this workflow, which is the workflow you will use when you are addressing feedback on your projects.\n",
    "\n",
    "-   Go to the relevant section in your lab .ipynb file.\n",
    "-   Delete the sentence that says \"Delete me\".\n",
    "-   Render the document.\n",
    "-   Commit your changes from the git tab with the commit message *\"Delete sentence, closes #1.\"*\n",
    "-   Push your changes to your repo and observe that the issue is now closed and the commit associated with this move is linked from the issue.\n",
    "\n",
    "GitHub allows you to close an issue directly with commits if the commit uses one of the following keywords followed bu the issue number (which you can find next to the issue title): close, closes, closed, fix, fixes, fixed, resolve, resolves, and resolved.\n"
   ]
  },
  {
   "cell_type": "markdown",
   "metadata": {},
   "source": [
    "# Wrap-up\n",
    "\n",
    "## Submission\n",
    "\n",
    "::: callout-warning\n",
    "Before you wrap up the assignment, make sure all of your documents are updated on your GitHub repo.\n",
    "We will be checking these to make sure you have been practicing how to commit and push changes.\n",
    "\n",
    "You must turn in the .ipynb file by the submission deadline to be considered \"on time\".\n",
    ":::\n",
    "\n",
    "::: callout-important\n",
    "## Checklist\n",
    "\n",
    "Make sure you have:\n",
    "\n",
    "-   attempted all questions\n",
    "-   run all code in your Jupyter notebook\n",
    "-   committed and pushed everything to your GitHub repository such that the Git pane in VS Code is empty\n",
    ":::\n",
    "\n",
    "## Grading\n",
    "\n",
    "The lab is graded out of a total of 50 points.\n",
    "\n",
    "On Questions 1 through 10, you can earn up to 5 points on each question:\n",
    "\n",
    "-   5: Response shows excellent understanding and addresses all or almost all of the rubric items.\n",
    "\n",
    "-   4: Response shows good understanding and addresses most of the rubric items.\n",
    "\n",
    "-   3: Response shows understanding and addresses a majority of the rubric items.\n",
    "\n",
    "-   2: Response shows effort and misses many of the rubric items.\n",
    "\n",
    "-   1: Response does not show sufficient effort or understanding and/or is largely incomplete.\n",
    "\n",
    "-   0: No attempt.\n"
   ]
  }
 ],
 "metadata": {
  "kernelspec": {
   "display_name": "Python 3",
   "language": "python",
   "name": "python3"
  },
  "language_info": {
   "codemirror_mode": {
    "name": "ipython",
    "version": 3
   },
   "file_extension": ".py",
   "mimetype": "text/x-python",
   "name": "python",
   "nbconvert_exporter": "python",
   "pygments_lexer": "ipython3",
   "version": "3.12.7"
  }
 },
 "nbformat": 4,
 "nbformat_minor": 2
}
